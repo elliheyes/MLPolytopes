{
 "cells": [
  {
   "cell_type": "code",
   "execution_count": 1,
   "id": "c1bedd1b-1097-4a96-9088-cc29ab5b13b9",
   "metadata": {
    "tags": []
   },
   "outputs": [],
   "source": [
    "from cytools import Polytope\n",
    "from GA import random_pop, evol_pop"
   ]
  },
  {
   "cell_type": "code",
   "execution_count": 11,
   "id": "2a088d9e-50db-4819-aaf2-a1b2a3ce6b78",
   "metadata": {
    "tags": []
   },
   "outputs": [],
   "source": [
    "DIM = 4 # polytope dimension \n",
    "MAXCOEFF = 3 # absolute maximum coefficient value\n",
    "MAXVERTS = 8 # maximum number of vertices\n",
    "POPSIZE = 300 # population size\n",
    "NUMGEN = 100 # number of generations\n",
    "MUTRATE = 0.01 # mutation rate"
   ]
  },
  {
   "cell_type": "code",
   "execution_count": 12,
   "id": "523f1dad-d5ab-4bd8-b498-421862264a76",
   "metadata": {
    "tags": []
   },
   "outputs": [],
   "source": [
    "initial_pop = random_pop(POPSIZE, DIM, MAXVERTS, MAXCOEFF, fav=True)"
   ]
  },
  {
   "cell_type": "code",
   "execution_count": 13,
   "id": "aff9f647-4744-43c8-984f-2d7c2ff543a4",
   "metadata": {
    "tags": []
   },
   "outputs": [
    {
     "name": "stdout",
     "output_type": "stream",
     "text": [
      "Total # Terminal States    Average Fitness    Maximum Fitness\n",
      "    0                        -120.22                  -103.11\n",
      "    0                        -117.19                  -103.13\n",
      "    0                        -115.3                  -101.75\n",
      "    0                        -113.84                  -103.0\n",
      "    0                        -110.76                  -101.36\n",
      "    0                        -109.18                  -100.33\n",
      "    0                        -108.13                  -101.27\n",
      "    0                        -107.1                  -100.69\n",
      "    0                        -106.81                  -100.5\n",
      "    0                        -105.89                  -100.14\n",
      "    0                        -105.21                  -100.64\n",
      "    0                        -104.36                  -100.64\n",
      "    0                        -103.88                  -100.5\n",
      "    0                        -103.16                  -100.2\n",
      "    0                        -102.4                  -4.0\n",
      "    0                        -102.34                  -4.0\n",
      "    0                        -102.98                  -9.0\n",
      "    0                        -102.69                  -8.0\n",
      "    0                        -103.26                  -8.0\n",
      "    0                        -104.03                  -100.4\n",
      "    0                        -102.63                  -100.13\n",
      "    0                        -101.98                  -4.0\n",
      "    0                        -101.88                  -4.0\n",
      "    0                        -102.27                  -4.0\n",
      "    0                        -102.26                  -4.0\n",
      "    0                        -102.64                  -4.0\n",
      "    0                        -102.65                  -4.0\n",
      "    0                        -102.69                  -4.0\n",
      "    0                        -102.41                  -4.0\n",
      "    0                        -102.69                  -4.0\n",
      "    0                        -102.85                  -4.0\n",
      "    0                        -103.46                  -100.2\n",
      "    0                        -102.42                  -1.0\n",
      "    0                        -102.76                  -100.23\n",
      "    0                        -102.3                  -100.13\n",
      "    0                        -101.73                  -3.0\n",
      "    0                        -101.62                  -3.0\n",
      "    0                        -101.17                  -3.0\n",
      "    0                        -101.78                  -3.0\n",
      "    0                        -100.66                  -1.0\n",
      "    0                        -101.91                  -1.0\n",
      "    0                        -102.36                  -2.0\n",
      "    0                        -102.47                  -2.0\n",
      "    0                        -102.8                  -100.08\n",
      "    0                        -101.89                  -6.0\n",
      "    0                        -101.74                  -5.0\n",
      "    0                        -101.24                  -1.0\n",
      "    0                        -101.63                  -1.0\n",
      "    0                        -101.37                  -1.0\n",
      "    1                        -99.86                  0.0\n",
      "    1                        -100.96                  -2.0\n",
      "    1                        -100.24                  -2.0\n",
      "    1                        -101.15                  -2.0\n",
      "    1                        -101.38                  -3.0\n",
      "    1                        -101.17                  -1.0\n",
      "    1                        -101.96                  -1.0\n",
      "    1                        -102.8                  -2.0\n",
      "    1                        -102.72                  -3.0\n",
      "    1                        -101.7                  -3.0\n",
      "    2                        -102.42                  0.0\n",
      "    4                        -101.86                  0.0\n",
      "    5                        -102.81                  0.0\n",
      "    5                        -102.44                  -2.0\n",
      "    5                        -102.98                  -2.0\n",
      "    6                        -102.23                  0.0\n",
      "    6                        -102.3                  -1.0\n",
      "    6                        -102.85                  -3.0\n",
      "    6                        -102.05                  -1.0\n",
      "    6                        -103.1                  -3.0\n",
      "    6                        -103.51                  -100.18\n",
      "    6                        -102.05                  -4.0\n",
      "    6                        -102.31                  -3.0\n",
      "    6                        -102.48                  -3.0\n",
      "    6                        -101.98                  -3.0\n",
      "    6                        -102.21                  -2.0\n",
      "    6                        -101.9                  -1.0\n",
      "    6                        -100.85                  -1.0\n",
      "    6                        -101.88                  -3.0\n",
      "    6                        -99.99                  -1.0\n",
      "    6                        -101.3                  -1.0\n",
      "    6                        -102.82                  -3.0\n",
      "    7                        -101.02                  0.0\n",
      "    7                        -102.66                  -9.0\n",
      "    7                        -102.56                  -9.0\n",
      "    7                        -102.84                  -14.0\n",
      "    7                        -102.32                  -4.0\n",
      "    7                        -103.03                  -100.18\n",
      "    7                        -101.64                  -1.0\n",
      "    7                        -101.25                  -2.0\n",
      "    7                        -102.42                  -4.0\n",
      "    7                        -101.7                  -3.0\n",
      "    7                        -102.29                  -5.0\n",
      "    7                        -102.28                  -2.0\n",
      "    7                        -100.83                  -1.0\n",
      "    7                        -99.44                  -2.0\n",
      "    7                        -98.14                  -1.0\n",
      "    7                        -97.15                  -2.0\n",
      "    7                        -100.4                  -4.0\n",
      "    7                        -98.65                  -2.0\n",
      "    7                        -97.56                  -1.0\n",
      "Total # of reduced terminal states: 5\n"
     ]
    }
   ],
   "source": [
    "terminal_states = evol_pop(initial_pop, NUMGEN, MUTRATE, monitor=True, h11=2)"
   ]
  },
  {
   "cell_type": "code",
   "execution_count": 14,
   "id": "ad828a8c-9c30-41a3-acb4-62575c814ea7",
   "metadata": {
    "tags": []
   },
   "outputs": [
    {
     "data": {
      "text/plain": [
       "array([[ 0,  0,  0,  0],\n",
       "       [-1, -1,  0, -1],\n",
       "       [ 0,  0,  0,  1],\n",
       "       [ 0,  1,  2,  0],\n",
       "       [ 1,  1, -1,  0],\n",
       "       [ 0, -1, -1, -1],\n",
       "       [ 0,  1,  1,  1]])"
      ]
     },
     "execution_count": 14,
     "metadata": {},
     "output_type": "execute_result"
    }
   ],
   "source": [
    "terminal_states[0].points()"
   ]
  },
  {
   "cell_type": "code",
   "execution_count": 15,
   "id": "04fb7f9d-e531-42f0-9932-98e605dc6518",
   "metadata": {
    "tags": []
   },
   "outputs": [
    {
     "data": {
      "text/plain": [
       "A Calabi-Yau 3-fold hypersurface with h11=2 and h21=86 in a 4-dimensional toric variety"
      ]
     },
     "execution_count": 15,
     "metadata": {},
     "output_type": "execute_result"
    }
   ],
   "source": [
    "p = Polytope(terminal_states[0].points())\n",
    "t = p.triangulate()\n",
    "t.get_cy()"
   ]
  }
 ],
 "metadata": {
  "kernelspec": {
   "display_name": "Python 3 (ipykernel)",
   "language": "python",
   "name": "python3"
  },
  "language_info": {
   "codemirror_mode": {
    "name": "ipython",
    "version": 3
   },
   "file_extension": ".py",
   "mimetype": "text/x-python",
   "name": "python",
   "nbconvert_exporter": "python",
   "pygments_lexer": "ipython3",
   "version": "3.9.2"
  }
 },
 "nbformat": 4,
 "nbformat_minor": 5
}
